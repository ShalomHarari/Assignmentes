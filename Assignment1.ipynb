{
 "cells": [
  {
   "cell_type": "code",
   "execution_count": 64,
   "id": "c131a9ee-9e85-419c-87d5-8117af710169",
   "metadata": {},
   "outputs": [
    {
     "name": "stdout",
     "output_type": "stream",
     "text": [
      "2.0\n"
     ]
    }
   ],
   "source": [
    "# assignment1 A\n",
    "def my_func(x1,x2,x3):\n",
    "    if x1+x2+x3 != 0:\n",
    "        num = ((x1+x2+x3)*(x2+x3)*(x3))/(x1+x2+x3)\n",
    "        num = float(num)\n",
    "        return num\n",
    "    else:\n",
    "        return('HARA. ASOR LEHALK BAFES YA AFES')\n",
    "print(my_func(1,1,1))\n",
    "    \n"
   ]
  },
  {
   "cell_type": "code",
   "execution_count": null,
   "id": "2ac47345-50ae-4095-a849-bc784f7308eb",
   "metadata": {},
   "outputs": [],
   "source": []
  },
  {
   "cell_type": "code",
   "execution_count": 180,
   "id": "9332be84-3119-4341-acec-cd44a3c9775f",
   "metadata": {
    "tags": []
   },
   "outputs": [
    {
     "name": "stdout",
     "output_type": "stream",
     "text": [
      "3780.0\n"
     ]
    }
   ],
   "source": [
    "# assignment1 B\n",
    "def convert(hours,minutes):\n",
    "    if hours < 0 or minutes <0:\n",
    "        return 'input error'\n",
    "\n",
    "    num = float(hours*60*60) \n",
    "    num1= float(minutes*60)\n",
    "    \n",
    "    if minutes < 1 and minutes > 0:\n",
    "        return num+(num1*60)\n",
    "    return num+num1\n",
    "\n",
    "print(convert (1,3))\n",
    "    "
   ]
  },
  {
   "cell_type": "code",
   "execution_count": null,
   "id": "f9e7200a-a0d1-4e09-b646-2183e5fc089e",
   "metadata": {},
   "outputs": [],
   "source": []
  },
  {
   "cell_type": "code",
   "execution_count": null,
   "id": "f1c9f7ac-b6c8-4b35-8ed0-d2d980e9f30a",
   "metadata": {},
   "outputs": [],
   "source": []
  }
 ],
 "metadata": {
  "kernelspec": {
   "display_name": "Python 3 (ipykernel)",
   "language": "python",
   "name": "python3"
  },
  "language_info": {
   "codemirror_mode": {
    "name": "ipython",
    "version": 3
   },
   "file_extension": ".py",
   "mimetype": "text/x-python",
   "name": "python",
   "nbconvert_exporter": "python",
   "pygments_lexer": "ipython3",
   "version": "3.9.7"
  }
 },
 "nbformat": 4,
 "nbformat_minor": 5
}

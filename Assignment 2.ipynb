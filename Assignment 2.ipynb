{
 "cells": [
  {
   "cell_type": "code",
   "execution_count": null,
   "id": "45b50cc1-8683-43c6-b83b-03f65920988a",
   "metadata": {},
   "outputs": [],
   "source": [
    "\n",
    "A.\twrite a function named reverse(sentence, reverse_word) that takes two strings as an input and returns a new string where the first occurrence of reverse_word in the sentence has been reverted (I.e. spelled backwards). \n",
    "Return type: str. \n",
    "Note: \n",
    "o\tThe reverse_word doesn’t have to be in the sentence. In that case you should return the following string: \"The word was not found\".\n",
    "o\tYou may NOT assume that \"reverse_word\" can only be a string. If “reverse_word” is not a string, then you should return \"invalid input\" \n",
    "o\tThe function is case sensitive, \"Like\" ≠ \"like\".\n",
    "For example: \n",
    "o\treverse(\"I like apples and I also like bananas\", \"like\") should return: \"I ekil apples and I also like bananas\". \n",
    "o\treverse(I like apples and I also like bananas\", \"oranges\") should return: \"no match word found\". \n",
    "o\treverse(I like apples and I also like bananas\", \"Bananas\") should return: \"no match word found\". \n"
   ]
  },
  {
   "cell_type": "code",
   "execution_count": 288,
   "id": "3538ef80-6e12-4356-84b9-a2ad05f9ad8f",
   "metadata": {},
   "outputs": [
    {
     "name": "stdout",
     "output_type": "stream",
     "text": [
      "No match found\n"
     ]
    }
   ],
   "source": [
    "def reverse(sentence,reverse_word):\n",
    "    if type(reverse_word) != str :\n",
    "        print ('invaild input')\n",
    "    else:\n",
    "        if reverse_word in sentence:\n",
    "         x = sentence.replace( reverse_word ,reverse_word[::-1],1)\n",
    "         return(x)\n",
    "        if reverse_word == str or reverse_word not in sentence:\n",
    "         print ('No match found')\n",
    "        \n",
    " \n",
    "reverse( 'i like appels and i also like bananas' , 'Also' )\n"
   ]
  },
  {
   "cell_type": "code",
   "execution_count": null,
   "id": "9e216505-7acf-4b63-8ee0-84c84773f95f",
   "metadata": {},
   "outputs": [],
   "source": []
  },
  {
   "cell_type": "code",
   "execution_count": null,
   "id": "953f8b38-bc0a-4336-8366-2718ef4d4a8c",
   "metadata": {},
   "outputs": [],
   "source": []
  },
  {
   "cell_type": "code",
   "execution_count": null,
   "id": "9e2089da-ed5f-43a0-973c-518dbe5492ff",
   "metadata": {},
   "outputs": [],
   "source": []
  },
  {
   "cell_type": "code",
   "execution_count": null,
   "id": "8f67d558-2b9e-44cb-892f-ce9ba49167b2",
   "metadata": {},
   "outputs": [],
   "source": []
  }
 ],
 "metadata": {
  "kernelspec": {
   "display_name": "Python 3 (ipykernel)",
   "language": "python",
   "name": "python3"
  },
  "language_info": {
   "codemirror_mode": {
    "name": "ipython",
    "version": 3
   },
   "file_extension": ".py",
   "mimetype": "text/x-python",
   "name": "python",
   "nbconvert_exporter": "python",
   "pygments_lexer": "ipython3",
   "version": "3.9.7"
  }
 },
 "nbformat": 4,
 "nbformat_minor": 5
}

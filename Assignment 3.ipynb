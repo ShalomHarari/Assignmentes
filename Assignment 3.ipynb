{
 "cells": [
  {
   "cell_type": "code",
   "execution_count": null,
   "id": "7f0bc4b4-c922-469e-adc6-91f867482c29",
   "metadata": {},
   "outputs": [],
   "source": [
    "A.\twrite a function named read_line(n, file) that takes as an input an int and a string representing a file name, and returns the nth line of the txt file, if it exists.\n",
    "Return type: str.\n",
    "For example:\n",
    "read_line(4, ex3_text.txt) should return: \" There is much more to black holes than meets the eye. In fact,\".\n",
    "read_line(9, ex3_text.txt) should return: \" \".\n",
    "read_line(29, ex3_text.txt) should return: \"line 29 doesn't exist\". \n",
    "read_line(\"c\", ex3_text.txt) should return: \"invalid input detected\".\n",
    "read_line(9, ex4_text.txt) should return: \"file not found\".\n",
    "Note:\n",
    "1.\tYou may NOT assume that \"n\" can only be an int. In any other case of an invalid input (that is, n is not an int), you should return the exact following string: \"invalid input detected\"\n",
    "2.\tYou may NOT assume that \"file\" exists. In that case and in any other case of an invalid input, you should return the exact following string: \"file not found\"\n"
   ]
  },
  {
   "cell_type": "code",
   "execution_count": null,
   "id": "37bcedf0-b801-47e2-b68c-eeb4bfffe712",
   "metadata": {},
   "outputs": [],
   "source": [
    "def read_line( n , file ):\n",
    "    try:\n",
    "        open(file)\n",
    "    except:\n",
    "        return('file not found') \n",
    "    if type(n) != int  :\n",
    "        return('invalid input detected')\n",
    "    if n > 23:\n",
    "        return('Line ' + str(n) + \" doesn't exist \")\n",
    "    else:\n",
    "        with open('As3.txt') as file:\n",
    "            data = file.readlines()[n -1]\n",
    "            print(data)    \n",
    "read_line( 4 ,'As3.txt' )\n",
    "    "
   ]
  },
  {
   "cell_type": "code",
   "execution_count": null,
   "id": "6d6ee1bc-8bc8-4c9d-a8bd-4c653a085ffc",
   "metadata": {},
   "outputs": [],
   "source": []
  }
 ],
 "metadata": {
  "kernelspec": {
   "display_name": "Python 3 (ipykernel)",
   "language": "python",
   "name": "python3"
  },
  "language_info": {
   "codemirror_mode": {
    "name": "ipython",
    "version": 3
   },
   "file_extension": ".py",
   "mimetype": "text/x-python",
   "name": "python",
   "nbconvert_exporter": "python",
   "pygments_lexer": "ipython3",
   "version": "3.9.7"
  }
 },
 "nbformat": 4,
 "nbformat_minor": 5
}
